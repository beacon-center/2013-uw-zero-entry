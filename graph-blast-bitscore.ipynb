{
 "metadata": {
  "name": "graph-blast-bitscore"
 },
 "nbformat": 3,
 "nbformat_minor": 0,
 "worksheets": [
  {
   "cells": [
    {
     "cell_type": "markdown",
     "metadata": {},
     "source": "# This is an IPython Notebook\n\nTo run cells in this notebook, hold down the shift key and hit the Enter key (aka shift-Enter)"
    },
    {
     "cell_type": "code",
     "collapsed": false,
     "input": "ls /mnt",
     "language": "python",
     "metadata": {},
     "outputs": [
      {
       "output_type": "stream",
       "stream": "stdout",
       "text": "\u001b[0m\u001b[01;34mevokerr\u001b[0m/   \u001b[01;34mhljordt\u001b[0m/     \u001b[01;34mmherrmannsfeldt\u001b[0m/      \u001b[01;34mtitus\u001b[0m/\r\n\u001b[01;34mfoenpeng\u001b[0m/  \u001b[01;34mlnj204\u001b[0m/      \u001b[01;34mqchrist2\u001b[0m/             \u001b[01;34mtitus2\u001b[0m/\r\n\u001b[01;34mhaoran\u001b[0m/    \u001b[01;34mlost+found\u001b[0m/  SRR390202_1.fastq.gz\r\n"
      }
     ],
     "prompt_number": 1
    },
    {
     "cell_type": "markdown",
     "metadata": {},
     "source": "### For the next command, replace 'titus' with your own NetID "
    },
    {
     "cell_type": "code",
     "collapsed": false,
     "input": "cd /mnt/titus",
     "language": "python",
     "metadata": {},
     "outputs": [
      {
       "output_type": "stream",
       "stream": "stdout",
       "text": "/mnt/titus\n"
      }
     ],
     "prompt_number": 2
    },
    {
     "cell_type": "code",
     "collapsed": false,
     "input": "ls",
     "language": "python",
     "metadata": {},
     "outputs": [
      {
       "output_type": "stream",
       "stream": "stdout",
       "text": "ecoli.x.salm       NC_000913.faa.pnd  NC_021814.faa.pin  reads.fa\r\nfiltered.csv       NC_000913.faa.pni  NC_021814.faa.pnd  reads.hist\r\nformatdb.log       NC_000913.faa.psd  NC_021814.faa.pni  salm.x.ecoli\r\nmetagenome.fa      NC_000913.faa.psi  NC_021814.faa.psd  salm.x.ecoli.csv\r\nNC_000913.faa      NC_000913.faa.psq  NC_021814.faa.psi\r\nNC_000913.faa.phr  NC_021814.faa      NC_021814.faa.psq\r\nNC_000913.faa.pin  NC_021814.faa.phr  ortho.csv\r\n"
      }
     ],
     "prompt_number": 3
    },
    {
     "cell_type": "code",
     "collapsed": false,
     "input": "import csv\nr = csv.reader(open('salm.x.ecoli.csv', 'r'))",
     "language": "python",
     "metadata": {},
     "outputs": [],
     "prompt_number": 4
    },
    {
     "cell_type": "code",
     "collapsed": false,
     "input": "scores = []\n\nfor row in r:\n    name1, descr1, name2, descr2, bitscore, evalue = row\n    bitscore = float(bitscore)\n    scores.append(bitscore)",
     "language": "python",
     "metadata": {},
     "outputs": [],
     "prompt_number": 5
    },
    {
     "cell_type": "code",
     "collapsed": false,
     "input": "print bitscore",
     "language": "python",
     "metadata": {},
     "outputs": [
      {
       "output_type": "stream",
       "stream": "stdout",
       "text": "99.0\n"
      }
     ],
     "prompt_number": 6
    },
    {
     "cell_type": "code",
     "collapsed": false,
     "input": "print name1, descr1, name2, descr2",
     "language": "python",
     "metadata": {},
     "outputs": [
      {
       "output_type": "stream",
       "stream": "stdout",
       "text": "ref|YP_008257983.1| hypothetical protein CFSAN001921_23440 [Salmonella enterica subsp. enterica serovar Typhimurium var. 5- str. CFSAN001921] ref|NP_415918.1| putative hexapeptide repeat acetyltransferase [Escherichia coli str. K-12 substr. MG1655]\n"
      }
     ],
     "prompt_number": 7
    },
    {
     "cell_type": "code",
     "collapsed": false,
     "input": "hist(scores)",
     "language": "python",
     "metadata": {},
     "outputs": [
      {
       "metadata": {},
       "output_type": "pyout",
       "prompt_number": 8,
       "text": "(array([8540, 1378,  642,  227,  101,   56,   16,    8,    8,    3]),\n array([   64.7 ,   350.93,   637.16,   923.39,  1209.62,  1495.85,\n        1782.08,  2068.31,  2354.54,  2640.77,  2927.  ]),\n <a list of 10 Patch objects>)"
      },
      {
       "metadata": {},
       "output_type": "display_data",
       "png": "[encoded data removed]",
       "text": "<matplotlib.figure.Figure at 0x2abead0>"
      }
     ],
     "prompt_number": 8
    },
    {
     "cell_type": "code",
     "collapsed": false,
     "input": "",
     "language": "python",
     "metadata": {},
     "outputs": [],
     "prompt_number": 8
    }
   ],
   "metadata": {}
  }
 ]
}