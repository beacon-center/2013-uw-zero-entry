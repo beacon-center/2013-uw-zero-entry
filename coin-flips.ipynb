{
 "metadata": {
  "name": "coin-flips"
 },
 "nbformat": 3,
 "nbformat_minor": 0,
 "worksheets": [
  {
   "cells": [
    {
     "cell_type": "markdown",
     "metadata": {},
     "source": "## Reminder: use Shift-ENTER to run each cell; feel free to edit, etc, before and after running!\n\n## Reminder: go up to 'File' and 'Make a copy' before running this notebook.  Change the name to something that includes your NetID, e.g. 'coin-flips-titus'."
    },
    {
     "cell_type": "code",
     "collapsed": false,
     "input": "import random\n\n# flip a coin\nrandom.choice([0, 1])",
     "language": "python",
     "metadata": {},
     "outputs": [
      {
       "metadata": {},
       "output_type": "pyout",
       "prompt_number": 1,
       "text": "0"
      }
     ],
     "prompt_number": 1
    },
    {
     "cell_type": "code",
     "collapsed": false,
     "input": "N = 100\nflips = []\nfor i in range(N):\n    flip = random.choice([0, 1])\n    flips.append(flip)\n    \nprint flips",
     "language": "python",
     "metadata": {},
     "outputs": [
      {
       "output_type": "stream",
       "stream": "stdout",
       "text": "[1, 1, 1, 1, 0, 0, 0, 1, 0, 0, 0, 1, 1, 0, 0, 0, 0, 1, 0, 1, 0, 0, 0, 0, 0, 1, 1, 0, 0, 0, 0, 1, 1, 0, 0, 0, 1, 1, 0, 0, 1, 0, 0, 0, 1, 1, 1, 0, 1, 0, 1, 1, 0, 1, 1, 1, 0, 0, 0, 1, 0, 1, 1, 0, 1, 0, 1, 1, 0, 0, 0, 1, 0, 0, 0, 0, 0, 0, 1, 1, 0, 1, 1, 0, 1, 1, 1, 0, 1, 1, 0, 1, 1, 1, 1, 1, 0, 0, 1, 0]\n"
      }
     ],
     "prompt_number": 2
    },
    {
     "cell_type": "code",
     "collapsed": false,
     "input": "print sum(flips) / float(len(flips))",
     "language": "python",
     "metadata": {},
     "outputs": [
      {
       "output_type": "stream",
       "stream": "stdout",
       "text": "0.47\n"
      }
     ],
     "prompt_number": 3
    },
    {
     "cell_type": "code",
     "collapsed": false,
     "input": "hist(flips)",
     "language": "python",
     "metadata": {},
     "outputs": [
      {
       "metadata": {},
       "output_type": "pyout",
       "prompt_number": 4,
       "text": "(array([53,  0,  0,  0,  0,  0,  0,  0,  0, 47]),\n array([ 0. ,  0.1,  0.2,  0.3,  0.4,  0.5,  0.6,  0.7,  0.8,  0.9,  1. ]),\n <a list of 10 Patch objects>)"
      },
      {
       "metadata": {},
       "output_type": "display_data",
       "png": "[encoded data removed]",
       "text": "<matplotlib.figure.Figure at 0x383ba50>"
      }
     ],
     "prompt_number": 4
    },
    {
     "cell_type": "code",
     "collapsed": false,
     "input": "# write a function to perform many flips\ndef flip_N(N):\n    flips = []\n    for i in range(N):\n        flip = random.choice([0, 1])\n        flips.append(flip)\n        \n    return sum(flips) / float(N)\n\navg = flip_N(100)\nprint avg",
     "language": "python",
     "metadata": {},
     "outputs": [
      {
       "output_type": "stream",
       "stream": "stdout",
       "text": "0.46\n"
      }
     ],
     "prompt_number": 5
    },
    {
     "cell_type": "code",
     "collapsed": false,
     "input": "# now perform many trials, and show the distribution\nn_trials = 500\ntrials = []\nN = 100\n\nfor i in range(n_trials):\n    avg = flip_N(N)\n    trials.append(avg)",
     "language": "python",
     "metadata": {},
     "outputs": [],
     "prompt_number": 6
    },
    {
     "cell_type": "code",
     "collapsed": false,
     "input": "hist(trials)",
     "language": "python",
     "metadata": {},
     "outputs": [
      {
       "metadata": {},
       "output_type": "pyout",
       "prompt_number": 7,
       "text": "(array([  8,  19,  54, 112, 134,  94,  54,  15,   6,   4]),\n array([ 0.37 ,  0.399,  0.428,  0.457,  0.486,  0.515,  0.544,  0.573,\n        0.602,  0.631,  0.66 ]),\n <a list of 10 Patch objects>)"
      },
      {
       "metadata": {},
       "output_type": "display_data",
       "png": "[encoded data removed]",
       "text": "<matplotlib.figure.Figure at 0x7f78041f7090>"
      }
     ],
     "prompt_number": 7
    },
    {
     "cell_type": "code",
     "collapsed": false,
     "input": "ls",
     "language": "python",
     "metadata": {},
     "outputs": [
      {
       "output_type": "stream",
       "stream": "stdout",
       "text": "coin-flips-evokerr.ipynb\r\ncoin-flips-hljordt.ipynb\r\ncoin-flips.ipynb\r\ncoin-flips-lnj204.ipynb\r\ncoin-flips-mherrmannsfeldt.ipynb\r\ncoin-flips-qchrist2.ipynb\r\ncoin-flips-Richard.ipynb\r\nfilter-blast-csv-hljordt.ipynb\r\nfilter-blast-csv.ipynb\r\nfilter-blast-csv_qchrist2.ipynb\r\ngraph-blast-bitscore-Copy0.ipynb\r\ngraph-blast-bitscore-Copy6-Copy0.ipynb\r\ngraph-blast-bitscore-Copy6.ipynb\r\ngraph-blast-bitscore-evokerr.ipynb\r\ngraph-blast-bitscore.ipynb\r\ngraph-blast-bitscore-leonard.ipynb\r\ngraph-blast-bitscore-lnj204.ipynb\r\ngraph-blast-bitscore-mherrmannsfeldt.ipynb\r\ngraph-blast-bitscore-qchrist2.ipynb\r\ngraph-blast-bitscore-Richard.ipynb\r\ngraph-blast-bitscore-sr320.ipynb\r\nhljordt.ipynb\r\nkmer-abundance-hljordt.ipynb\r\nkmer-abundance.ipynb\r\nkmer-abundance-lnj204.ipynb\r\nkmer-abundance-mherrmannsfeldt.ipynb\r\nkmer-abundance-qchrist2.ipynb\r\nkmer-abundance-Richard.ipynb\r\nkmer-abundance-titus.ipynb\r\nmonty-hall-evokerr.ipynb\r\nmonty-hall-hljordt.ipynb\r\nmonty-hall.ipynb\r\nmonty-hall-lnj204.ipynb\r\nmonty-hall-mherrmannsfeldt.ipynb\r\nmonty-hall-qchrist2.ipynb\r\nmonty-hall-Richard.ipynb\r\nmonty-hall-titus.ipynb\r\nREADME.txt\r\n"
      }
     ],
     "prompt_number": 8
    },
    {
     "cell_type": "code",
     "collapsed": false,
     "input": "",
     "language": "python",
     "metadata": {},
     "outputs": [],
     "prompt_number": 8
    }
   ],
   "metadata": {}
  }
 ]
}