{
 "metadata": {
  "name": ""
 },
 "nbformat": 3,
 "nbformat_minor": 0,
 "worksheets": [
  {
   "cells": [
    {
     "cell_type": "markdown",
     "metadata": {},
     "source": [
      "## Reminder: use Shift-ENTER to run each cell; feel free to edit, etc, before and after running!\n",
      "\n",
      "## Reminder: go up to 'File' and 'Make a copy' before running this notebook.  Change the name to something that includes your NetID, e.g. 'coin-flips-titus'."
     ]
    },
    {
     "cell_type": "markdown",
     "metadata": {},
     "source": [
      "## First, let's flip a coin."
     ]
    },
    {
     "cell_type": "code",
     "collapsed": false,
     "input": [
      "import random\n",
      "\n",
      "# flip a coin\n",
      "random.choice([0, 1])"
     ],
     "language": "python",
     "metadata": {},
     "outputs": []
    },
    {
     "cell_type": "markdown",
     "metadata": {},
     "source": [
      "## Now, let's flip 100 coins!"
     ]
    },
    {
     "cell_type": "code",
     "collapsed": false,
     "input": [
      "N = 100\n",
      "flips = []\n",
      "for i in range(N):\n",
      "    flip = random.choice([0, 1])\n",
      "    flips.append(flip)\n",
      "    \n",
      "print flips"
     ],
     "language": "python",
     "metadata": {},
     "outputs": []
    },
    {
     "cell_type": "markdown",
     "metadata": {},
     "source": [
      "## Calculate the \"average\""
     ]
    },
    {
     "cell_type": "code",
     "collapsed": false,
     "input": [
      "print sum(flips) / float(len(flips))"
     ],
     "language": "python",
     "metadata": {},
     "outputs": []
    },
    {
     "cell_type": "markdown",
     "metadata": {},
     "source": [
      "## Calculate the distribution..."
     ]
    },
    {
     "cell_type": "code",
     "collapsed": false,
     "input": [
      "hist(flips)"
     ],
     "language": "python",
     "metadata": {},
     "outputs": []
    },
    {
     "cell_type": "markdown",
     "metadata": {},
     "source": [
      "## ...but that's not actually interesting.  We really want the *distribution* of averages"
     ]
    },
    {
     "cell_type": "code",
     "collapsed": false,
     "input": [
      "# write a function to perform many flips\n",
      "def flip_N(N):\n",
      "    flips = []\n",
      "    for i in range(N):\n",
      "        flip = random.choice([0, 1])\n",
      "        flips.append(flip)\n",
      "        \n",
      "    return sum(flips) / float(N)\n",
      "\n",
      "avg = flip_N(100)\n",
      "print avg"
     ],
     "language": "python",
     "metadata": {},
     "outputs": []
    },
    {
     "cell_type": "code",
     "collapsed": false,
     "input": [
      "# now perform many trials, and show the distribution\n",
      "n_trials = 500\n",
      "trials = []\n",
      "N = 100\n",
      "\n",
      "for i in range(n_trials):\n",
      "    avg = flip_N(N)\n",
      "    trials.append(avg)"
     ],
     "language": "python",
     "metadata": {},
     "outputs": []
    },
    {
     "cell_type": "markdown",
     "metadata": {},
     "source": [
      "## Plot the distribution"
     ]
    },
    {
     "cell_type": "code",
     "collapsed": false,
     "input": [
      "hist(trials)"
     ],
     "language": "python",
     "metadata": {},
     "outputs": []
    },
    {
     "cell_type": "markdown",
     "metadata": {},
     "source": [
      "## More reading\n",
      "\n",
      "http://en.wikipedia.org/wiki/Law_of_large_numbers\n",
      "\n",
      "http://en.wikipedia.org/wiki/Central_limit_theorem"
     ]
    }
   ],
   "metadata": {}
  }
 ]
}